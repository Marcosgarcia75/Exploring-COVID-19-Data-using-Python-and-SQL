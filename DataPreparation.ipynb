{
 "cells": [
  {
   "cell_type": "markdown",
   "id": "781c446f",
   "metadata": {},
   "source": [
    "# DATA Preparation and Export"
   ]
  },
  {
   "cell_type": "code",
   "execution_count": 37,
   "id": "19df3995",
   "metadata": {},
   "outputs": [],
   "source": [
    "import pandas as pd"
   ]
  },
  {
   "cell_type": "markdown",
   "id": "0bf756d8",
   "metadata": {},
   "source": [
    "Read the CSV file"
   ]
  },
  {
   "cell_type": "code",
   "execution_count": 38,
   "id": "87566a83",
   "metadata": {},
   "outputs": [
    {
     "data": {
      "text/html": [
       "<div>\n",
       "<style scoped>\n",
       "    .dataframe tbody tr th:only-of-type {\n",
       "        vertical-align: middle;\n",
       "    }\n",
       "\n",
       "    .dataframe tbody tr th {\n",
       "        vertical-align: top;\n",
       "    }\n",
       "\n",
       "    .dataframe thead th {\n",
       "        text-align: right;\n",
       "    }\n",
       "</style>\n",
       "<table border=\"1\" class=\"dataframe\">\n",
       "  <thead>\n",
       "    <tr style=\"text-align: right;\">\n",
       "      <th></th>\n",
       "      <th>iso_code</th>\n",
       "      <th>continent</th>\n",
       "      <th>location</th>\n",
       "      <th>date</th>\n",
       "      <th>new_tests</th>\n",
       "      <th>total_tests</th>\n",
       "      <th>total_tests_per_thousand</th>\n",
       "      <th>new_tests_per_thousand</th>\n",
       "      <th>new_tests_smoothed</th>\n",
       "      <th>new_tests_smoothed_per_thousand</th>\n",
       "      <th>...</th>\n",
       "      <th>gdp_per_capita</th>\n",
       "      <th>extreme_poverty</th>\n",
       "      <th>cardiovasc_death_rate</th>\n",
       "      <th>diabetes_prevalence</th>\n",
       "      <th>female_smokers</th>\n",
       "      <th>male_smokers</th>\n",
       "      <th>handwashing_facilities</th>\n",
       "      <th>hospital_beds_per_thousand</th>\n",
       "      <th>life_expectancy</th>\n",
       "      <th>human_development_index</th>\n",
       "    </tr>\n",
       "  </thead>\n",
       "  <tbody>\n",
       "    <tr>\n",
       "      <th>0</th>\n",
       "      <td>AFG</td>\n",
       "      <td>Asia</td>\n",
       "      <td>Afghanistan</td>\n",
       "      <td>2/24/2020</td>\n",
       "      <td>0</td>\n",
       "      <td>0</td>\n",
       "      <td>0.0</td>\n",
       "      <td>0.0</td>\n",
       "      <td>0</td>\n",
       "      <td>0.0</td>\n",
       "      <td>...</td>\n",
       "      <td>1803.987</td>\n",
       "      <td>0.0</td>\n",
       "      <td>597.029</td>\n",
       "      <td>9.59</td>\n",
       "      <td>0.0</td>\n",
       "      <td>0.0</td>\n",
       "      <td>37.746</td>\n",
       "      <td>0.5</td>\n",
       "      <td>64.83</td>\n",
       "      <td>0.511</td>\n",
       "    </tr>\n",
       "    <tr>\n",
       "      <th>1</th>\n",
       "      <td>AFG</td>\n",
       "      <td>Asia</td>\n",
       "      <td>Afghanistan</td>\n",
       "      <td>2/25/2020</td>\n",
       "      <td>0</td>\n",
       "      <td>0</td>\n",
       "      <td>0.0</td>\n",
       "      <td>0.0</td>\n",
       "      <td>0</td>\n",
       "      <td>0.0</td>\n",
       "      <td>...</td>\n",
       "      <td>1803.987</td>\n",
       "      <td>0.0</td>\n",
       "      <td>597.029</td>\n",
       "      <td>9.59</td>\n",
       "      <td>0.0</td>\n",
       "      <td>0.0</td>\n",
       "      <td>37.746</td>\n",
       "      <td>0.5</td>\n",
       "      <td>64.83</td>\n",
       "      <td>0.511</td>\n",
       "    </tr>\n",
       "    <tr>\n",
       "      <th>2</th>\n",
       "      <td>AFG</td>\n",
       "      <td>Asia</td>\n",
       "      <td>Afghanistan</td>\n",
       "      <td>2/26/2020</td>\n",
       "      <td>0</td>\n",
       "      <td>0</td>\n",
       "      <td>0.0</td>\n",
       "      <td>0.0</td>\n",
       "      <td>0</td>\n",
       "      <td>0.0</td>\n",
       "      <td>...</td>\n",
       "      <td>1803.987</td>\n",
       "      <td>0.0</td>\n",
       "      <td>597.029</td>\n",
       "      <td>9.59</td>\n",
       "      <td>0.0</td>\n",
       "      <td>0.0</td>\n",
       "      <td>37.746</td>\n",
       "      <td>0.5</td>\n",
       "      <td>64.83</td>\n",
       "      <td>0.511</td>\n",
       "    </tr>\n",
       "    <tr>\n",
       "      <th>3</th>\n",
       "      <td>AFG</td>\n",
       "      <td>Asia</td>\n",
       "      <td>Afghanistan</td>\n",
       "      <td>2/27/2020</td>\n",
       "      <td>0</td>\n",
       "      <td>0</td>\n",
       "      <td>0.0</td>\n",
       "      <td>0.0</td>\n",
       "      <td>0</td>\n",
       "      <td>0.0</td>\n",
       "      <td>...</td>\n",
       "      <td>1803.987</td>\n",
       "      <td>0.0</td>\n",
       "      <td>597.029</td>\n",
       "      <td>9.59</td>\n",
       "      <td>0.0</td>\n",
       "      <td>0.0</td>\n",
       "      <td>37.746</td>\n",
       "      <td>0.5</td>\n",
       "      <td>64.83</td>\n",
       "      <td>0.511</td>\n",
       "    </tr>\n",
       "    <tr>\n",
       "      <th>4</th>\n",
       "      <td>AFG</td>\n",
       "      <td>Asia</td>\n",
       "      <td>Afghanistan</td>\n",
       "      <td>2/28/2020</td>\n",
       "      <td>0</td>\n",
       "      <td>0</td>\n",
       "      <td>0.0</td>\n",
       "      <td>0.0</td>\n",
       "      <td>0</td>\n",
       "      <td>0.0</td>\n",
       "      <td>...</td>\n",
       "      <td>1803.987</td>\n",
       "      <td>0.0</td>\n",
       "      <td>597.029</td>\n",
       "      <td>9.59</td>\n",
       "      <td>0.0</td>\n",
       "      <td>0.0</td>\n",
       "      <td>37.746</td>\n",
       "      <td>0.5</td>\n",
       "      <td>64.83</td>\n",
       "      <td>0.511</td>\n",
       "    </tr>\n",
       "  </tbody>\n",
       "</table>\n",
       "<p>5 rows × 36 columns</p>\n",
       "</div>"
      ],
      "text/plain": [
       "  iso_code continent     location       date  new_tests  total_tests  \\\n",
       "0      AFG      Asia  Afghanistan  2/24/2020          0            0   \n",
       "1      AFG      Asia  Afghanistan  2/25/2020          0            0   \n",
       "2      AFG      Asia  Afghanistan  2/26/2020          0            0   \n",
       "3      AFG      Asia  Afghanistan  2/27/2020          0            0   \n",
       "4      AFG      Asia  Afghanistan  2/28/2020          0            0   \n",
       "\n",
       "   total_tests_per_thousand  new_tests_per_thousand  new_tests_smoothed  \\\n",
       "0                       0.0                     0.0                   0   \n",
       "1                       0.0                     0.0                   0   \n",
       "2                       0.0                     0.0                   0   \n",
       "3                       0.0                     0.0                   0   \n",
       "4                       0.0                     0.0                   0   \n",
       "\n",
       "   new_tests_smoothed_per_thousand  ...  gdp_per_capita  extreme_poverty  \\\n",
       "0                              0.0  ...        1803.987              0.0   \n",
       "1                              0.0  ...        1803.987              0.0   \n",
       "2                              0.0  ...        1803.987              0.0   \n",
       "3                              0.0  ...        1803.987              0.0   \n",
       "4                              0.0  ...        1803.987              0.0   \n",
       "\n",
       "   cardiovasc_death_rate  diabetes_prevalence  female_smokers  male_smokers  \\\n",
       "0                597.029                 9.59             0.0           0.0   \n",
       "1                597.029                 9.59             0.0           0.0   \n",
       "2                597.029                 9.59             0.0           0.0   \n",
       "3                597.029                 9.59             0.0           0.0   \n",
       "4                597.029                 9.59             0.0           0.0   \n",
       "\n",
       "   handwashing_facilities  hospital_beds_per_thousand  life_expectancy  \\\n",
       "0                  37.746                         0.5            64.83   \n",
       "1                  37.746                         0.5            64.83   \n",
       "2                  37.746                         0.5            64.83   \n",
       "3                  37.746                         0.5            64.83   \n",
       "4                  37.746                         0.5            64.83   \n",
       "\n",
       "   human_development_index  \n",
       "0                    0.511  \n",
       "1                    0.511  \n",
       "2                    0.511  \n",
       "3                    0.511  \n",
       "4                    0.511  \n",
       "\n",
       "[5 rows x 36 columns]"
      ]
     },
     "execution_count": 38,
     "metadata": {},
     "output_type": "execute_result"
    }
   ],
   "source": [
    "df=pd.read_csv('CovidVaccinations.csv')\n",
    "df.head()"
   ]
  },
  {
   "cell_type": "markdown",
   "id": "005b20fa",
   "metadata": {},
   "source": [
    "Data Cleaning and Preparation"
   ]
  },
  {
   "cell_type": "markdown",
   "id": "eb89631e",
   "metadata": {},
   "source": [
    "1. Check for missing values"
   ]
  },
  {
   "cell_type": "code",
   "execution_count": 39,
   "id": "67aa7552",
   "metadata": {},
   "outputs": [
    {
     "data": {
      "text/plain": [
       "iso_code                                 0\n",
       "continent                                0\n",
       "location                                 0\n",
       "date                                     0\n",
       "new_tests                                0\n",
       "total_tests                              0\n",
       "total_tests_per_thousand                 0\n",
       "new_tests_per_thousand                   0\n",
       "new_tests_smoothed                       0\n",
       "new_tests_smoothed_per_thousand          0\n",
       "positive_rate                            0\n",
       "tests_per_case                           0\n",
       "total_vaccinations                       0\n",
       "people_vaccinated                        0\n",
       "people_fully_vaccinated                  0\n",
       "new_vaccinations                         0\n",
       "new_vaccinations_smoothed                0\n",
       "total_vaccinations_per_hundred           0\n",
       "people_vaccinated_per_hundred            0\n",
       "people_fully_vaccinated_per_hundred      0\n",
       "new_vaccinations_smoothed_per_million    0\n",
       "stringency_index                         0\n",
       "population_density                       0\n",
       "median_age                               0\n",
       "aged_65_older                            0\n",
       "aged_70_older                            0\n",
       "gdp_per_capita                           0\n",
       "extreme_poverty                          0\n",
       "cardiovasc_death_rate                    0\n",
       "diabetes_prevalence                      0\n",
       "female_smokers                           0\n",
       "male_smokers                             0\n",
       "handwashing_facilities                   0\n",
       "hospital_beds_per_thousand               0\n",
       "life_expectancy                          0\n",
       "human_development_index                  0\n",
       "dtype: int64"
      ]
     },
     "execution_count": 39,
     "metadata": {},
     "output_type": "execute_result"
    }
   ],
   "source": [
    "df.isnull().sum()"
   ]
  },
  {
   "cell_type": "markdown",
   "id": "df403af0",
   "metadata": {},
   "source": [
    "2. Fill missing values"
   ]
  },
  {
   "cell_type": "code",
   "execution_count": 40,
   "id": "1f4b01ae",
   "metadata": {},
   "outputs": [
    {
     "data": {
      "text/plain": [
       "iso_code                                 0\n",
       "continent                                0\n",
       "location                                 0\n",
       "date                                     0\n",
       "new_tests                                0\n",
       "total_tests                              0\n",
       "total_tests_per_thousand                 0\n",
       "new_tests_per_thousand                   0\n",
       "new_tests_smoothed                       0\n",
       "new_tests_smoothed_per_thousand          0\n",
       "positive_rate                            0\n",
       "tests_per_case                           0\n",
       "total_vaccinations                       0\n",
       "people_vaccinated                        0\n",
       "people_fully_vaccinated                  0\n",
       "new_vaccinations                         0\n",
       "new_vaccinations_smoothed                0\n",
       "total_vaccinations_per_hundred           0\n",
       "people_vaccinated_per_hundred            0\n",
       "people_fully_vaccinated_per_hundred      0\n",
       "new_vaccinations_smoothed_per_million    0\n",
       "stringency_index                         0\n",
       "population_density                       0\n",
       "median_age                               0\n",
       "aged_65_older                            0\n",
       "aged_70_older                            0\n",
       "gdp_per_capita                           0\n",
       "extreme_poverty                          0\n",
       "cardiovasc_death_rate                    0\n",
       "diabetes_prevalence                      0\n",
       "female_smokers                           0\n",
       "male_smokers                             0\n",
       "handwashing_facilities                   0\n",
       "hospital_beds_per_thousand               0\n",
       "life_expectancy                          0\n",
       "human_development_index                  0\n",
       "dtype: int64"
      ]
     },
     "execution_count": 40,
     "metadata": {},
     "output_type": "execute_result"
    }
   ],
   "source": [
    "df.fillna(0,inplace=True)\n",
    "df.isnull().sum()"
   ]
  },
  {
   "cell_type": "markdown",
   "id": "ce0ed94f",
   "metadata": {},
   "source": [
    "3. Handle data types"
   ]
  },
  {
   "cell_type": "code",
   "execution_count": 41,
   "id": "69acb6f6",
   "metadata": {},
   "outputs": [
    {
     "data": {
      "text/plain": [
       "iso_code                                  object\n",
       "continent                                 object\n",
       "location                                  object\n",
       "date                                      object\n",
       "new_tests                                  int64\n",
       "total_tests                                int64\n",
       "total_tests_per_thousand                 float64\n",
       "new_tests_per_thousand                   float64\n",
       "new_tests_smoothed                         int64\n",
       "new_tests_smoothed_per_thousand          float64\n",
       "positive_rate                            float64\n",
       "tests_per_case                           float64\n",
       "total_vaccinations                         int64\n",
       "people_vaccinated                          int64\n",
       "people_fully_vaccinated                    int64\n",
       "new_vaccinations                           int64\n",
       "new_vaccinations_smoothed                  int64\n",
       "total_vaccinations_per_hundred           float64\n",
       "people_vaccinated_per_hundred            float64\n",
       "people_fully_vaccinated_per_hundred      float64\n",
       "new_vaccinations_smoothed_per_million      int64\n",
       "stringency_index                         float64\n",
       "population_density                       float64\n",
       "median_age                               float64\n",
       "aged_65_older                            float64\n",
       "aged_70_older                            float64\n",
       "gdp_per_capita                           float64\n",
       "extreme_poverty                          float64\n",
       "cardiovasc_death_rate                    float64\n",
       "diabetes_prevalence                      float64\n",
       "female_smokers                           float64\n",
       "male_smokers                             float64\n",
       "handwashing_facilities                   float64\n",
       "hospital_beds_per_thousand               float64\n",
       "life_expectancy                          float64\n",
       "human_development_index                  float64\n",
       "dtype: object"
      ]
     },
     "execution_count": 41,
     "metadata": {},
     "output_type": "execute_result"
    }
   ],
   "source": [
    "df.dtypes"
   ]
  },
  {
   "cell_type": "code",
   "execution_count": 42,
   "id": "e2015da1",
   "metadata": {},
   "outputs": [],
   "source": [
    "df['date']=pd.to_datetime(df['date'])"
   ]
  },
  {
   "cell_type": "code",
   "execution_count": 43,
   "id": "edff12fd",
   "metadata": {
    "scrolled": true
   },
   "outputs": [
    {
     "data": {
      "text/plain": [
       "iso_code                                         object\n",
       "continent                                        object\n",
       "location                                         object\n",
       "date                                     datetime64[ns]\n",
       "new_tests                                         int64\n",
       "total_tests                                       int64\n",
       "total_tests_per_thousand                        float64\n",
       "new_tests_per_thousand                          float64\n",
       "new_tests_smoothed                                int64\n",
       "new_tests_smoothed_per_thousand                 float64\n",
       "positive_rate                                   float64\n",
       "tests_per_case                                  float64\n",
       "total_vaccinations                                int64\n",
       "people_vaccinated                                 int64\n",
       "people_fully_vaccinated                           int64\n",
       "new_vaccinations                                  int64\n",
       "new_vaccinations_smoothed                         int64\n",
       "total_vaccinations_per_hundred                  float64\n",
       "people_vaccinated_per_hundred                   float64\n",
       "people_fully_vaccinated_per_hundred             float64\n",
       "new_vaccinations_smoothed_per_million             int64\n",
       "stringency_index                                float64\n",
       "population_density                              float64\n",
       "median_age                                      float64\n",
       "aged_65_older                                   float64\n",
       "aged_70_older                                   float64\n",
       "gdp_per_capita                                  float64\n",
       "extreme_poverty                                 float64\n",
       "cardiovasc_death_rate                           float64\n",
       "diabetes_prevalence                             float64\n",
       "female_smokers                                  float64\n",
       "male_smokers                                    float64\n",
       "handwashing_facilities                          float64\n",
       "hospital_beds_per_thousand                      float64\n",
       "life_expectancy                                 float64\n",
       "human_development_index                         float64\n",
       "dtype: object"
      ]
     },
     "execution_count": 43,
     "metadata": {},
     "output_type": "execute_result"
    }
   ],
   "source": [
    "df.dtypes"
   ]
  },
  {
   "cell_type": "markdown",
   "id": "65bc6933",
   "metadata": {},
   "source": [
    "DataFrame Export"
   ]
  },
  {
   "cell_type": "markdown",
   "id": "dcda60a9",
   "metadata": {},
   "source": [
    "1. Convert all rows into a list of tuples"
   ]
  },
  {
   "cell_type": "code",
   "execution_count": 44,
   "id": "526a8431",
   "metadata": {},
   "outputs": [
    {
     "ename": "TypeError",
     "evalue": "'tuple' object is not callable",
     "output_type": "error",
     "traceback": [
      "\u001b[1;31m---------------------------------------------------------------------------\u001b[0m",
      "\u001b[1;31mTypeError\u001b[0m                                 Traceback (most recent call last)",
      "\u001b[1;32m~\\AppData\\Local\\Temp/ipykernel_17960/3164213721.py\u001b[0m in \u001b[0;36m<module>\u001b[1;34m\u001b[0m\n\u001b[0;32m      3\u001b[0m \u001b[1;32mfor\u001b[0m \u001b[0mi\u001b[0m \u001b[1;32min\u001b[0m \u001b[0mrange\u001b[0m\u001b[1;33m(\u001b[0m\u001b[0mlen\u001b[0m\u001b[1;33m(\u001b[0m\u001b[0mdf\u001b[0m\u001b[1;33m)\u001b[0m\u001b[1;33m)\u001b[0m\u001b[1;33m:\u001b[0m\u001b[1;33m\u001b[0m\u001b[1;33m\u001b[0m\u001b[0m\n\u001b[0;32m      4\u001b[0m \u001b[1;33m\u001b[0m\u001b[0m\n\u001b[1;32m----> 5\u001b[1;33m     \u001b[0mx\u001b[0m\u001b[1;33m=\u001b[0m\u001b[0mtuple\u001b[0m\u001b[1;33m(\u001b[0m\u001b[0mdf\u001b[0m\u001b[1;33m.\u001b[0m\u001b[0miloc\u001b[0m\u001b[1;33m[\u001b[0m\u001b[0mi\u001b[0m\u001b[1;33m]\u001b[0m\u001b[1;33m)\u001b[0m\u001b[1;33m\u001b[0m\u001b[1;33m\u001b[0m\u001b[0m\n\u001b[0m\u001b[0;32m      6\u001b[0m     \u001b[0my\u001b[0m\u001b[1;33m.\u001b[0m\u001b[0mappend\u001b[0m\u001b[1;33m(\u001b[0m\u001b[0mx\u001b[0m\u001b[1;33m)\u001b[0m\u001b[1;33m\u001b[0m\u001b[1;33m\u001b[0m\u001b[0m\n\u001b[0;32m      7\u001b[0m \u001b[1;33m\u001b[0m\u001b[0m\n",
      "\u001b[1;31mTypeError\u001b[0m: 'tuple' object is not callable"
     ]
    }
   ],
   "source": [
    "y=[]\n",
    "\n",
    "for i in range(len(df)):\n",
    "\n",
    "    x=tuple(df.iloc[i])\n",
    "    y.append(x)\n",
    "   \n",
    "y"
   ]
  },
  {
   "cell_type": "markdown",
   "id": "90258478",
   "metadata": {},
   "source": [
    "2. Save the list as a text file"
   ]
  },
  {
   "cell_type": "code",
   "execution_count": null,
   "id": "740d0c68",
   "metadata": {},
   "outputs": [],
   "source": [
    "file = open('CovidVaccinations.txt','w')\n",
    "\n",
    "for tuple in y:\n",
    "    file.write(str(tuple) + ',' +'\\n')\n",
    "    \n",
    "file.close()"
   ]
  },
  {
   "cell_type": "code",
   "execution_count": null,
   "id": "f8d2f75c",
   "metadata": {},
   "outputs": [],
   "source": []
  }
 ],
 "metadata": {
  "kernelspec": {
   "display_name": "Python 3 (ipykernel)",
   "language": "python",
   "name": "python3"
  },
  "language_info": {
   "codemirror_mode": {
    "name": "ipython",
    "version": 3
   },
   "file_extension": ".py",
   "mimetype": "text/x-python",
   "name": "python",
   "nbconvert_exporter": "python",
   "pygments_lexer": "ipython3",
   "version": "3.9.7"
  }
 },
 "nbformat": 4,
 "nbformat_minor": 5
}
